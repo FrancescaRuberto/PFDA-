{
 "cells": [
  {
   "cell_type": "markdown",
   "metadata": {},
   "source": [
    "# Irish population age dynamics analysis"
   ]
  },
  {
   "cell_type": "code",
   "execution_count": null,
   "metadata": {},
   "outputs": [],
   "source": [
    "# Importing all libraries\n",
    "import pandas as pd\n",
    "import matplotlib.pyplot as plt\n",
    "import seaborn as sns\n",
    "import numpy as np"
   ]
  },
  {
   "cell_type": "code",
   "execution_count": 3,
   "metadata": {},
   "outputs": [],
   "source": [
    "# Load the CSV file\n",
    "file_path = \"C:\\\\Users\\\\franc\\\\OneDrive\\\\Desktop\\\\Irish_age_data_2020-2024.csv\"\n",
    "df = pd.read_csv(file_path)"
   ]
  },
  {
   "cell_type": "code",
   "execution_count": 5,
   "metadata": {},
   "outputs": [
    {
     "name": "stdout",
     "output_type": "stream",
     "text": [
      "                           STATISTIC Label  Year      Age Group     Sex  \\\n",
      "0  Population Estimates (Persons in April)  2020   0 - 14 years    Male   \n",
      "1  Population Estimates (Persons in April)  2020   0 - 14 years  Female   \n",
      "2  Population Estimates (Persons in April)  2020  10 - 14 years    Male   \n",
      "3  Population Estimates (Persons in April)  2020  10 - 14 years  Female   \n",
      "4  Population Estimates (Persons in April)  2020  15 - 19 years    Male   \n",
      "\n",
      "       UNIT  VALUE  \n",
      "0  Thousand  519.9  \n",
      "1  Thousand  493.7  \n",
      "2  Thousand  181.6  \n",
      "3  Thousand  173.2  \n",
      "4  Thousand  166.4  \n"
     ]
    }
   ],
   "source": [
    "# Give a first look to the data\n",
    "print(df.head())"
   ]
  },
  {
   "cell_type": "code",
   "execution_count": 6,
   "metadata": {},
   "outputs": [
    {
     "name": "stdout",
     "output_type": "stream",
     "text": [
      "Index(['STATISTIC Label', 'Year', 'Age Group', 'Sex', 'UNIT', 'VALUE'], dtype='object')\n"
     ]
    }
   ],
   "source": [
    "# Checking columns in the dataset\n",
    "print(df.columns)"
   ]
  },
  {
   "cell_type": "code",
   "execution_count": 8,
   "metadata": {},
   "outputs": [
    {
     "name": "stdout",
     "output_type": "stream",
     "text": [
      "STATISTIC Label     object\n",
      "Year                 int64\n",
      "Age Group           object\n",
      "Sex                 object\n",
      "UNIT                object\n",
      "VALUE              float64\n",
      "dtype: object\n"
     ]
    }
   ],
   "source": [
    "# Checking the types of data we have in the dataset\n",
    "print(df.dtypes)"
   ]
  },
  {
   "cell_type": "markdown",
   "metadata": {},
   "source": [
    "### Analysis of the age group distribution\n",
    "\n",
    "The goal of this analysis is to explore how the population is distributed across age groups over time. By visualizing these distributions, I aim to identify overall patterns and changes in the demographic structure, while also providing a clear view of differences between males and females. This step serves as a starting point for understanding the broader demographic trends in Ireland."
   ]
  },
  {
   "cell_type": "code",
   "execution_count": 10,
   "metadata": {},
   "outputs": [
    {
     "name": "stdout",
     "output_type": "stream",
     "text": [
      "Age Group\n",
      "0 - 14 years         2587.1\n",
      "10 - 14 years         948.0\n",
      "15 - 19 years         871.0\n",
      "20 - 24 years         801.5\n",
      "25 - 29 years         760.6\n",
      "30 - 34 years         813.1\n",
      "35 - 39 years         922.4\n",
      "40 - 44 years        1008.9\n",
      "45 - 49 years         931.6\n",
      "50 - 54 years         852.9\n",
      "55 - 59 years         763.5\n",
      "60 - 64 years         682.5\n",
      "65 - 69 years         590.5\n",
      "70 - 74 years         498.2\n",
      "75 - 79 years         369.3\n",
      "80 - 84 years         220.9\n",
      "85 years and over     156.7\n",
      "Name: VALUE, dtype: float64 Age Group\n",
      "0 - 14 years         2470.4\n",
      "10 - 14 years         906.8\n",
      "15 - 19 years         831.5\n",
      "20 - 24 years         772.3\n",
      "25 - 29 years         758.4\n",
      "30 - 34 years         861.6\n",
      "35 - 39 years        1003.6\n",
      "40 - 44 years        1066.5\n",
      "45 - 49 years         951.6\n",
      "50 - 54 years         858.8\n",
      "55 - 59 years         782.1\n",
      "60 - 64 years         703.9\n",
      "65 - 69 years         609.1\n",
      "70 - 74 years         520.4\n",
      "75 - 79 years         402.6\n",
      "80 - 84 years         267.6\n",
      "85 years and over     259.1\n",
      "Name: VALUE, dtype: float64\n"
     ]
    }
   ],
   "source": [
    "# calculation of total population by age group and sex\n",
    "age_group = df[\"Age Group\"].unique()\n",
    "male_values = df[df[\"Sex\"] == \"Male\"].groupby(\"Age Group\")[\"VALUE\"].sum()\n",
    "female_values = df[df[\"Sex\"] == \"Female\"].groupby(\"Age Group\")[\"VALUE\"].sum()\n",
    "print(male_values, female_values)"
   ]
  }
 ],
 "metadata": {
  "kernelspec": {
   "display_name": "base",
   "language": "python",
   "name": "python3"
  },
  "language_info": {
   "codemirror_mode": {
    "name": "ipython",
    "version": 3
   },
   "file_extension": ".py",
   "mimetype": "text/x-python",
   "name": "python",
   "nbconvert_exporter": "python",
   "pygments_lexer": "ipython3",
   "version": "3.11.5"
  }
 },
 "nbformat": 4,
 "nbformat_minor": 2
}
