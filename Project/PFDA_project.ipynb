{
 "cells": [
  {
   "cell_type": "markdown",
   "metadata": {},
   "source": [
    "# Irish population age dynamics analysis"
   ]
  },
  {
   "cell_type": "code",
   "execution_count": null,
   "metadata": {},
   "outputs": [],
   "source": [
    "# Importing all libraries\n",
    "import pandas as pd\n",
    "import matplotlib.pyplot as plt\n",
    "import seaborn as sns\n",
    "import numpy as np"
   ]
  },
  {
   "cell_type": "code",
   "execution_count": 3,
   "metadata": {},
   "outputs": [],
   "source": [
    "# Load the CSV file\n",
    "file_path = \"C:\\\\Users\\\\franc\\\\OneDrive\\\\Desktop\\\\Irish_age_data_2020-2024.csv\"\n",
    "df = pd.read_csv(file_path)"
   ]
  },
  {
   "cell_type": "code",
   "execution_count": 5,
   "metadata": {},
   "outputs": [
    {
     "name": "stdout",
     "output_type": "stream",
     "text": [
      "                           STATISTIC Label  Year      Age Group     Sex  \\\n",
      "0  Population Estimates (Persons in April)  2020   0 - 14 years    Male   \n",
      "1  Population Estimates (Persons in April)  2020   0 - 14 years  Female   \n",
      "2  Population Estimates (Persons in April)  2020  10 - 14 years    Male   \n",
      "3  Population Estimates (Persons in April)  2020  10 - 14 years  Female   \n",
      "4  Population Estimates (Persons in April)  2020  15 - 19 years    Male   \n",
      "\n",
      "       UNIT  VALUE  \n",
      "0  Thousand  519.9  \n",
      "1  Thousand  493.7  \n",
      "2  Thousand  181.6  \n",
      "3  Thousand  173.2  \n",
      "4  Thousand  166.4  \n"
     ]
    }
   ],
   "source": [
    "# Give a first look to the data\n",
    "print(df.head())"
   ]
  },
  {
   "cell_type": "code",
   "execution_count": 6,
   "metadata": {},
   "outputs": [
    {
     "name": "stdout",
     "output_type": "stream",
     "text": [
      "Index(['STATISTIC Label', 'Year', 'Age Group', 'Sex', 'UNIT', 'VALUE'], dtype='object')\n"
     ]
    }
   ],
   "source": [
    "# Checking columns in the dataset\n",
    "print(df.columns)"
   ]
  },
  {
   "cell_type": "code",
   "execution_count": 8,
   "metadata": {},
   "outputs": [
    {
     "name": "stdout",
     "output_type": "stream",
     "text": [
      "STATISTIC Label     object\n",
      "Year                 int64\n",
      "Age Group           object\n",
      "Sex                 object\n",
      "UNIT                object\n",
      "VALUE              float64\n",
      "dtype: object\n"
     ]
    }
   ],
   "source": [
    "# Checking the types of data we have in the dataset\n",
    "print(df.dtypes)"
   ]
  }
 ],
 "metadata": {
  "kernelspec": {
   "display_name": "base",
   "language": "python",
   "name": "python3"
  },
  "language_info": {
   "codemirror_mode": {
    "name": "ipython",
    "version": 3
   },
   "file_extension": ".py",
   "mimetype": "text/x-python",
   "name": "python",
   "nbconvert_exporter": "python",
   "pygments_lexer": "ipython3",
   "version": "3.11.5"
  }
 },
 "nbformat": 4,
 "nbformat_minor": 2
}
