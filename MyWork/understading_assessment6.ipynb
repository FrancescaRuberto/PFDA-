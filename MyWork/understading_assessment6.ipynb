{
 "cells": [
  {
   "cell_type": "markdown",
   "metadata": {},
   "source": [
    "Knock airport Weather\n",
    "\n",
    "Create a python file or notebook called assignment_6_Weather (.py or .ipynb)\n",
    "\n",
    "Get the data from this link.\n",
    "\n",
    "https://cli.fusio.net/cli/climate_data/webdata/hly4935.csv\n",
    "\n",
    "(This is different that the data I used in the lecture)\n",
    "\n",
    "Plot:\n",
    "\n",
    "The temperature\n",
    "The mean temperature each day\n",
    "The mean temperature for each month\n",
    "60% of the marks will be given for the above\n",
    "\n",
    "For the last 40%\n",
    "\n",
    "Plot:\n",
    "\n",
    "The Windspeed (there is data missing from this column)\n",
    "The rolling windspeed (say over 24 hours)\n",
    "The max windspeed for each day\n",
    "The monthly mean of the daily max windspeeds (yer I am being nasty here)\n",
    "You do not need to over comment your code. Marks will be given for how nice the plots are."
   ]
  },
  {
   "cell_type": "code",
   "execution_count": 118,
   "metadata": {},
   "outputs": [],
   "source": [
    "import pandas as pd\n",
    "import seaborn as sns\n",
    "import matplotlib.pyplot as plt"
   ]
  },
  {
   "cell_type": "code",
   "execution_count": 113,
   "metadata": {},
   "outputs": [],
   "source": [
    "# Step 1: Load the data from the given URL\n",
    "df = pd.read_csv(\"https://cli.fusio.net/cli/climate_data/webdata/hly4935.csv\", skiprows=23, low_memory=False) # Added \"low memory false\" because of a dtype warning"
   ]
  },
  {
   "cell_type": "code",
   "execution_count": 115,
   "metadata": {},
   "outputs": [
    {
     "name": "stdout",
     "output_type": "stream",
     "text": [
      "Data loaded successfully!\n"
     ]
    }
   ],
   "source": [
    "# Issues with \"data\" reading, attempt to load the data\n",
    "try:\n",
    "    data = pd.read_csv(\"https://cli.fusio.net/cli/climate_data/webdata/hly4935.csv\"), skiprows=23, low_memory=False)\n",
    "    print(\"Data loaded successfully!\")\n",
    "except FileNotFoundError:\n",
    "    print(\"File not found. Please check the file path.\")"
   ]
  },
  {
   "cell_type": "code",
   "execution_count": 116,
   "metadata": {},
   "outputs": [
    {
     "name": "stdout",
     "output_type": "stream",
     "text": [
      "<class 'pandas.core.frame.DataFrame'>\n",
      "RangeIndex: 246930 entries, 0 to 246929\n",
      "Data columns (total 21 columns):\n",
      " #   Column  Non-Null Count   Dtype  \n",
      "---  ------  --------------   -----  \n",
      " 0   date    246930 non-null  object \n",
      " 1   ind     246930 non-null  int64  \n",
      " 2   rain    246930 non-null  object \n",
      " 3   ind.1   246930 non-null  int64  \n",
      " 4   temp    246930 non-null  float64\n",
      " 5   ind.2   246930 non-null  int64  \n",
      " 6   wetb    246930 non-null  float64\n",
      " 7   dewpt   246930 non-null  float64\n",
      " 8   vappr   246930 non-null  float64\n",
      " 9   rhum    246930 non-null  int64  \n",
      " 10  msl     246930 non-null  object \n",
      " 11  ind.3   246930 non-null  int64  \n",
      " 12  wdsp    246930 non-null  object \n",
      " 13  ind.4   246930 non-null  int64  \n",
      " 14  wddir   246930 non-null  object \n",
      " 15  ww      246930 non-null  object \n",
      " 16  w       246930 non-null  object \n",
      " 17  sun     246930 non-null  float64\n",
      " 18  vis     246930 non-null  object \n",
      " 19  clht    246930 non-null  object \n",
      " 20  clamt   246930 non-null  object \n",
      "dtypes: float64(5), int64(6), object(10)\n",
      "memory usage: 39.6+ MB\n",
      "None\n",
      "                date  ind rain  ind.1  temp  ind.2  wetb  dewpt  vappr  rhum  \\\n",
      "0  10-apr-1996 14:00    0  0.0      0  11.5      0   8.1    3.9    0.0     0   \n",
      "1  31-jul-1996 08:00    0  0.0      0  11.5      0  11.1   10.7    0.0     0   \n",
      "2  31-jul-1996 09:00    0  0.0      0  11.6      0  10.7    9.8    0.0     0   \n",
      "3  31-jul-1996 10:00    0  0.0      0  12.9      0  11.3    9.8    0.0     0   \n",
      "4  31-jul-1996 11:00    0  0.0      0  14.5      0  10.8    7.0    0.0     0   \n",
      "\n",
      "   ... ind.3  wdsp ind.4  wddir  ww   w  sun    vis clht clamt  \n",
      "0  ...     0     0     0      0  25  81  0.0  35000   32     5  \n",
      "1  ...     0     0     0      0  25  82  0.0  40000   45     5  \n",
      "2  ...     0     0     0      0  80  81  0.0   8000   32     7  \n",
      "3  ...     0     0     0      0  25  82  0.0  28000   35     6  \n",
      "4  ...     0     0     0      0   2  11  0.0  40000   40     6  \n",
      "\n",
      "[5 rows x 21 columns]\n"
     ]
    }
   ],
   "source": [
    "# Checking data type and column names\n",
    "print(data.info())  # Should display column details if 'data' is loaded\n",
    "print(data.head())  # Displays the first few rows of data"
   ]
  },
  {
   "cell_type": "code",
   "execution_count": null,
   "metadata": {},
   "outputs": [],
   "source": [
    "# Assuming 'temp' is the temperature column, which is a float\n",
    "# Plot Temperature Data\n",
    "plt.figure(figsize=(10, 5))\n",
    "sns.lineplot(data=data, x='date', y='temp')  # Replace 'Date' and 'temp' with actual column names\n",
    "plt.title(\"Temperature Over Time\")\n",
    "plt.xlabel(\"Date\")\n",
    "plt.ylabel(\"Temperature\")\n",
    "plt.show()"
   ]
  }
 ],
 "metadata": {
  "kernelspec": {
   "display_name": "base",
   "language": "python",
   "name": "python3"
  },
  "language_info": {
   "codemirror_mode": {
    "name": "ipython",
    "version": 3
   },
   "file_extension": ".py",
   "mimetype": "text/x-python",
   "name": "python",
   "nbconvert_exporter": "python",
   "pygments_lexer": "ipython3",
   "version": "3.11.5"
  }
 },
 "nbformat": 4,
 "nbformat_minor": 2
}
