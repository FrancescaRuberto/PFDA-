{
 "cells": [
  {
   "cell_type": "markdown",
   "metadata": {},
   "source": [
    "Knock airport Weather\n",
    "\n",
    "Create a python file or notebook called assignment_6_Weather (.py or .ipynb)\n",
    "\n",
    "Get the data from this link.\n",
    "\n",
    "https://cli.fusio.net/cli/climate_data/webdata/hly4935.csv\n",
    "\n",
    "(This is different that the data I used in the lecture)\n",
    "\n",
    "Plot:\n",
    "\n",
    "The temperature\n",
    "The mean temperature each day\n",
    "The mean temperature for each month\n",
    "60% of the marks will be given for the above\n",
    "\n",
    "For the last 40%\n",
    "\n",
    "Plot:\n",
    "\n",
    "The Windspeed (there is data missing from this column)\n",
    "The rolling windspeed (say over 24 hours)\n",
    "The max windspeed for each day\n",
    "The monthly mean of the daily max windspeeds (yer I am being nasty here)\n",
    "You do not need to over comment your code. Marks will be given for how nice the plots are."
   ]
  },
  {
   "cell_type": "code",
   "execution_count": 54,
   "metadata": {},
   "outputs": [],
   "source": [
    "import pandas as pd\n",
    "import matplotlib.pyplot as plt\n",
    "import seaborn as sns"
   ]
  },
  {
   "cell_type": "code",
   "execution_count": 55,
   "metadata": {},
   "outputs": [
    {
     "name": "stderr",
     "output_type": "stream",
     "text": [
      "C:\\Users\\franc\\AppData\\Local\\Temp\\ipykernel_22940\\1953335263.py:3: DtypeWarning: Columns (2,10,12,14,15,16,18,19,20) have mixed types. Specify dtype option on import or set low_memory=False.\n",
      "  df = pd.read_csv(\"https://cli.fusio.net/cli/climate_data/webdata/hly4935.csv\", skiprows=23)\n"
     ]
    },
    {
     "name": "stdout",
     "output_type": "stream",
     "text": [
      "                date  ind rain  ind.1  temp  ind.2  wetb  dewpt  vappr  rhum  \\\n",
      "0  10-apr-1996 14:00    0  0.0      0  11.5      0   8.1    3.9    0.0     0   \n",
      "1  31-jul-1996 08:00    0  0.0      0  11.5      0  11.1   10.7    0.0     0   \n",
      "2  31-jul-1996 09:00    0  0.0      0  11.6      0  10.7    9.8    0.0     0   \n",
      "3  31-jul-1996 10:00    0  0.0      0  12.9      0  11.3    9.8    0.0     0   \n",
      "4  31-jul-1996 11:00    0  0.0      0  14.5      0  10.8    7.0    0.0     0   \n",
      "\n",
      "   ... ind.3  wdsp ind.4  wddir  ww   w  sun    vis clht clamt  \n",
      "0  ...     0     0     0      0  25  81  0.0  35000   32     5  \n",
      "1  ...     0     0     0      0  25  82  0.0  40000   45     5  \n",
      "2  ...     0     0     0      0  80  81  0.0   8000   32     7  \n",
      "3  ...     0     0     0      0  25  82  0.0  28000   35     6  \n",
      "4  ...     0     0     0      0   2  11  0.0  40000   40     6  \n",
      "\n",
      "[5 rows x 21 columns]\n"
     ]
    }
   ],
   "source": [
    "# Import CSV file of Knock Airport weather\n",
    "# I was having a DataType warning, I tried to solve by adding a datatype \"unicode\".\n",
    "df = pd.read_csv(\"https://cli.fusio.net/cli/climate_data/webdata/hly4935.csv\", skiprows=23)\n",
    "print(df.head())"
   ]
  },
  {
   "cell_type": "code",
   "execution_count": 56,
   "metadata": {},
   "outputs": [
    {
     "name": "stdout",
     "output_type": "stream",
     "text": [
      "Index(['date', 'ind', 'rain', 'ind.1', 'temp', 'ind.2', 'wetb', 'dewpt',\n",
      "       'vappr', 'rhum', 'msl', 'ind.3', 'wdsp', 'ind.4', 'wddir', 'ww', 'w',\n",
      "       'sun', 'vis', 'clht', 'clamt'],\n",
      "      dtype='object')\n"
     ]
    }
   ],
   "source": [
    "# Check the columns for the temperature data\n",
    "print(df.columns)"
   ]
  },
  {
   "cell_type": "code",
   "execution_count": 58,
   "metadata": {},
   "outputs": [
    {
     "name": "stdout",
     "output_type": "stream",
     "text": [
      "Renamed column names:\n",
      "Index(['date', 'ind', 'rain', 'ind_rain', 'temp', 'ind_temp', 'wetb', 'dewpt',\n",
      "       'vappr', 'rhum', 'ind_vappr', 'wdsp', 'ind_wdsp', 'wddir', 'ww', 's',\n",
      "       'sun', 'vis', 'clht', 'clamt', 'extra_col1'],\n",
      "      dtype='object')\n"
     ]
    }
   ],
   "source": [
    "# Rename the columns for easier access\n",
    "df.columns = ['date', 'ind', 'rain', 'ind_rain', 'temp', 'ind_temp', \n",
    "              'wetb', 'dewpt', 'vappr', 'rhum', 'ind_vappr', \n",
    "              'wdsp', 'ind_wdsp', 'wddir', 'ww', 's', 'sun', 'vis', 'clht', 'clamt', 'extra_col1'] # Had to add extra column to match the ones in the dataset\n",
    "print(\"Renamed column names:\")\n",
    "print(df.columns)"
   ]
  },
  {
   "cell_type": "code",
   "execution_count": 59,
   "metadata": {},
   "outputs": [],
   "source": [
    "# Convert the date column to datetime\n",
    "df['date'] = pd.to_datetime(df['date'], format='%d-%b-%Y %H:%M')"
   ]
  },
  {
   "cell_type": "code",
   "execution_count": 60,
   "metadata": {},
   "outputs": [
    {
     "name": "stdout",
     "output_type": "stream",
     "text": [
      "\n",
      "Data types after conversion:\n",
      "date          datetime64[ns]\n",
      "ind                    int64\n",
      "rain                  object\n",
      "ind_rain               int64\n",
      "temp                 float64\n",
      "ind_temp               int64\n",
      "wetb                 float64\n",
      "dewpt                float64\n",
      "vappr                float64\n",
      "rhum                   int64\n",
      "ind_vappr             object\n",
      "wdsp                   int64\n",
      "ind_wdsp              object\n",
      "wddir                  int64\n",
      "ww                    object\n",
      "s                     object\n",
      "sun                   object\n",
      "vis                  float64\n",
      "clht                  object\n",
      "clamt                 object\n",
      "extra_col1            object\n",
      "dtype: object\n"
     ]
    }
   ],
   "source": [
    "# Verify the changes\n",
    "print(\"\\nData types after conversion:\")\n",
    "print(df.dtypes)"
   ]
  },
  {
   "cell_type": "code",
   "execution_count": 62,
   "metadata": {},
   "outputs": [],
   "source": [
    "# Set the date as the index\n",
    "df.set_index('date', inplace=True)"
   ]
  }
 ],
 "metadata": {
  "kernelspec": {
   "display_name": "base",
   "language": "python",
   "name": "python3"
  },
  "language_info": {
   "codemirror_mode": {
    "name": "ipython",
    "version": 3
   },
   "file_extension": ".py",
   "mimetype": "text/x-python",
   "name": "python",
   "nbconvert_exporter": "python",
   "pygments_lexer": "ipython3",
   "version": "3.11.5"
  }
 },
 "nbformat": 4,
 "nbformat_minor": 2
}
