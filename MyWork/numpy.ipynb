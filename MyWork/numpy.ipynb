{
 "cells": [
  {
   "cell_type": "markdown",
   "metadata": {},
   "source": [
    "Risk\n",
    "I love the board game Risk.\n",
    "\n",
    "Write a program (or notebook) called assignment_5_risk (.py or .ipynb)\n",
    "\n",
    "The program should simulates 1000 individual battle rounds in Risk (3 attacker vs 2 defender) and plots the result.\n",
    "\n",
    "One battle round is one shake of the attacker and defender dice.\n",
    "\n",
    "I am being vague about what it plot, I will leave that to you.\n",
    "\n",
    "For the last few marks.\n",
    "\n",
    "A more complicated version simulates a full series of rounds for armies of arbitrary sizes, until one side is wiped out,\n",
    "\n",
    "and plots the results.\n",
    "\n",
    "(This is open ended, so it is only for the last few marks)\n",
    "\n",
    "Rules of Risk\n",
    "\n",
    "In Risk one army fights another. (using 6 sided dice)\n",
    "\n",
    "In each battle round, the attacker can put forward up to three of their troops (3 dice).\n",
    "\n",
    "The defender can use up to two of their defending troops (2 dice).\n",
    "\n",
    "Each side looses troops depending on the following rules:\n",
    "\n",
    "The two top dice dice are compared (ie the attackers top dice roll with the defenders top dice roll) \n",
    "If the attackers dice is the same or lower they loose one troop otherwise the defender looses a troop (ie if the attackers dice is higher)\n",
    "The next two highest dice from each side are then compared (ie the attackers second highest to the defenders second highest)\n",
    "If the attackers dice is the same or lower they loose one troop otherwise the defender looses a troop (ie if the attackers dice is higher)\n",
    "\n",
    "\n",
    "Examples\n",
    "Attacker rolls\tDefender Rolls\tAttacker Loses\tDefender Loses\tExplanation\n",
    "6,4,1\t5,3\t0\t2\t6 beats 5 and 4 beats 3 (the one is ignored as the lowest)\n",
    "6,6,6\t6,3\t1\t1\tDefenders 6 beats the attackers first 6\n",
    "and the attackers second 6 beats the defenders 3\n",
    "5,4,4\t5,4\t2\t0\tThe defenders 5 beat the attackers 5\n",
    "and the defenders 4 beat the attackers 4\n",
    "(defender wins when the dice are the same)\n",
    "See the rules How to play Risk | Official Rules | UltraBoardGames\n",
    "search \"to decide a battle\"."
   ]
  },
  {
   "cell_type": "code",
   "execution_count": 11,
   "metadata": {},
   "outputs": [],
   "source": [
    "import numpy as np\n",
    "import random \n",
    "import matplotlib.pyplot as plt"
   ]
  },
  {
   "cell_type": "code",
   "execution_count": 5,
   "metadata": {},
   "outputs": [],
   "source": [
    "# Define a function to simulate battles in risk\n",
    "def round_battle():\n",
    "    # Roll the dice for attacker and defender (3 dice vs 2 dice)\n",
    "    attacker_rolls = [random.randint(1, 6) for _ in range(3)]\n",
    "    defender_rolls = [random.randint(1, 6) for _ in range(2)]\n",
    "  # Sort the rolls in descending order\n",
    "    attacker_rolls.sort(reverse=True)\n",
    "    defender_rolls.sort(reverse=True)\n",
    "     # Initialize losses\n",
    "    attacker_losses = 0\n",
    "    defender_losses = 0\n",
    "    \n",
    "    # Compare the highest rolls\n",
    "    if attacker_rolls[0] <= defender_rolls[0]:\n",
    "        attacker_losses += 1\n",
    "    else:\n",
    "        defender_losses += 1\n",
    "    \n",
    "    # Compare the second highest rolls\n",
    "    if attacker_rolls[1] <= defender_rolls[1]:\n",
    "        attacker_losses += 1\n",
    "    else:\n",
    "        defender_losses += 1\n",
    "    \n",
    "    return attacker_losses, defender_losses"
   ]
  },
  {
   "cell_type": "code",
   "execution_count": 7,
   "metadata": {},
   "outputs": [
    {
     "name": "stdout",
     "output_type": "stream",
     "text": [
      "Total Attacker Losses: 905\n",
      "Total Defender Losses: 1095\n"
     ]
    }
   ],
   "source": [
    "# Simulate 1000 battle rounds\n",
    "num_battles = 1000\n",
    "total_attacker_losses = 0\n",
    "total_defender_losses = 0\n",
    "\n",
    "for _ in range(num_battles):\n",
    "    attacker_losses, defender_losses = round_battle()\n",
    "    total_attacker_losses += attacker_losses\n",
    "    total_defender_losses += defender_losses\n",
    "\n",
    "# Print the results\n",
    "print(f\"Total Attacker Losses: {total_attacker_losses}\")\n",
    "print(f\"Total Defender Losses: {total_defender_losses}\")"
   ]
  },
  {
   "cell_type": "code",
   "execution_count": 12,
   "metadata": {},
   "outputs": [
    {
     "data": {
      "image/png": "[encoded data removed]",
      "text/plain": [
       "<Figure size 640x480 with 1 Axes>"
      ]
     },
     "metadata": {},
     "output_type": "display_data"
    }
   ],
   "source": [
    "# Plotting the results\n",
    "labels = ['Attacker', 'Defender']\n",
    "losses = [total_attacker_losses, total_defender_losses]\n",
    "\n",
    "plt.bar(labels, losses, color=['blue', 'red'])\n",
    "plt.ylabel('Total Losses')\n",
    "plt.title('Total Losses After 1000 Battle Rounds in Risk')\n",
    "plt.show()"
   ]
  }
 ],
 "metadata": {
  "kernelspec": {
   "display_name": "base",
   "language": "python",
   "name": "python3"
  },
  "language_info": {
   "codemirror_mode": {
    "name": "ipython",
    "version": 3
   },
   "file_extension": ".py",
   "mimetype": "text/x-python",
   "name": "python",
   "nbconvert_exporter": "python",
   "pygments_lexer": "ipython3",
   "version": "3.11.5"
  }
 },
 "nbformat": 4,
 "nbformat_minor": 2
}
