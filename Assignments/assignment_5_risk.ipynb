{
 "cells": [
  {
   "cell_type": "markdown",
   "metadata": {},
   "source": [
    "## Assignment 5 - Risk simulator\n",
    "### Introduction\n",
    "This assignment involves simulating individual battle rounds in the classic board game Risk using Python. The objective is to model the combat mechanics where an attacking army engages a defending army using six-sided dice. By implementing the rules of the game, we aim to analyze the outcomes of multiple battle rounds and visualize the results to gain insights into the dynamics of troop losses during combat.\n",
    "\n",
    "### Objectives\n",
    "Simulate Battle Rounds: Create a program that simulates 1000 individual battle rounds between an attacker with up to three troops and a defender with up to two troops.\n",
    "Implement Game Mechanics: Accurately apply the rules of Risk for troop losses based on the comparison of dice rolls.\n",
    "Data Visualization: Use Matplotlib to plot the total losses for both the attacker and defender after all simulations, providing a clear visual representation of the results.\n",
    "Analyze Results: Interpret the plotted data to understand the patterns and trends in troop losses over numerous battle rounds."
   ]
  },
  {
   "cell_type": "code",
   "execution_count": 1,
   "metadata": {},
   "outputs": [],
   "source": [
    "import numpy as np\n",
    "import random \n",
    "import matplotlib.pyplot as plt"
   ]
  },
  {
   "cell_type": "code",
   "execution_count": 2,
   "metadata": {},
   "outputs": [],
   "source": [
    "# Define a function to simulate battles in risk\n",
    "def round_battle():\n",
    "    # Roll the dice for attacker and defender (3 dice vs 2 dice)\n",
    "    attacker_rolls = [random.randint(1, 6) for _ in range(3)]\n",
    "    defender_rolls = [random.randint(1, 6) for _ in range(2)]\n",
    "  # Sort the rolls in descending order\n",
    "    attacker_rolls.sort(reverse=True)\n",
    "    defender_rolls.sort(reverse=True)\n",
    "     # Initialize losses\n",
    "    attacker_losses = 0\n",
    "    defender_losses = 0\n",
    "    \n",
    "    # Compare the highest rolls\n",
    "    if attacker_rolls[0] <= defender_rolls[0]:\n",
    "        attacker_losses += 1\n",
    "    else:\n",
    "        defender_losses += 1\n",
    "    \n",
    "    # Compare the second highest rolls\n",
    "    if attacker_rolls[1] <= defender_rolls[1]:\n",
    "        attacker_losses += 1\n",
    "    else:\n",
    "        defender_losses += 1\n",
    "    \n",
    "    return attacker_losses, defender_losses"
   ]
  },
  {
   "cell_type": "code",
   "execution_count": 3,
   "metadata": {},
   "outputs": [
    {
     "name": "stdout",
     "output_type": "stream",
     "text": [
      "Total Attacker Losses: 925\n",
      "Total Defender Losses: 1075\n"
     ]
    }
   ],
   "source": [
    "# Simulate 1000 battle rounds\n",
    "num_battles = 1000\n",
    "total_attacker_losses = 0\n",
    "total_defender_losses = 0\n",
    "\n",
    "for _ in range(num_battles):\n",
    "    attacker_losses, defender_losses = round_battle()\n",
    "    total_attacker_losses += attacker_losses\n",
    "    total_defender_losses += defender_losses\n",
    "\n",
    "# Print the results\n",
    "print(f\"Total Attacker Losses: {total_attacker_losses}\")\n",
    "print(f\"Total Defender Losses: {total_defender_losses}\")"
   ]
  },
  {
   "cell_type": "code",
   "execution_count": 4,
   "metadata": {},
   "outputs": [
    {
     "data": {
      "image/png": "[encoded data removed]",
      "text/plain": [
       "<Figure size 640x480 with 1 Axes>"
      ]
     },
     "metadata": {},
     "output_type": "display_data"
    }
   ],
   "source": [
    "# Plotting the results\n",
    "labels = ['Attacker', 'Defender']\n",
    "losses = [total_attacker_losses, total_defender_losses]\n",
    "\n",
    "plt.bar(labels, losses, color=['blue', 'red'])\n",
    "plt.ylabel('Total Losses')\n",
    "plt.title('Total Losses After 1000 Battle Rounds in Risk')\n",
    "plt.show()"
   ]
  },
  {
   "cell_type": "markdown",
   "metadata": {},
   "source": [
    "## Bibliography / Resources\n",
    "\n",
    "- Kawamura, R. (n.d.). Mathematics for Machine Learning and Data Science Specialization - Dice Simulations Lab. GitHub. Retrieved from https://github.com/Ryota-Kawamura/Mathematics-for-Machine-Learning-and-Data-Science-Specialization/blob/main/Course-3/Week-2/C3_W2_Lab_2_Dice_Simulations.ipynb\n",
    "- NumPy Developers. (n.d.). numpy.random.randint — NumPy v2.0 Manual. NumPy. Retrieved from https://numpy.org/doc/2.0/reference/random/generated/numpy.random.randint.html\n",
    "- Real Python. (n.d.). Python Dice Roll. Real Python. Retrieved from https://realpython.com/python-dice-roll/\n",
    "- Stack Overflow. (2014, May 26). Speed up Risk Wargame dice rolling simulation. Stack Overflow. Retrieved from https://stackoverflow.com/questions/23885702/speed-up-risk-wargame-dice-rolling-simulation\n",
    "- Stack Overflow. (2017, May 16). Dice Rolling Simulator in Python. Stack Overflow. Retrieved from https://stackoverflow.com/questions/44008489/dice-rolling-simulator-in-python\n",
    "- Tutorialspoint. (n.d.). Dice Rolling Simulator Using Python Random. Tutorialspoint. Retrieved from https://www.tutorialspoint.com/dice-rolling-simulator-using-python-random\n",
    "- W3Schools. (n.d.). Python List sort() Method. W3Schools. Retrieved from https://www.w3schools.com/python/ref_list_sort.asp"
   ]
  }
 ],
 "metadata": {
  "kernelspec": {
   "display_name": "base",
   "language": "python",
   "name": "python3"
  },
  "language_info": {
   "codemirror_mode": {
    "name": "ipython",
    "version": 3
   },
   "file_extension": ".py",
   "mimetype": "text/x-python",
   "name": "python",
   "nbconvert_exporter": "python",
   "pygments_lexer": "ipython3",
   "version": "3.11.5"
  }
 },
 "nbformat": 4,
 "nbformat_minor": 2
}
