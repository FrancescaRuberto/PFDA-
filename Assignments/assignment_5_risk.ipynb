{
 "cells": [
  {
   "cell_type": "markdown",
   "metadata": {},
   "source": [
    "## Assignment 5 - Risk simulator\n",
    "### Introduction\n",
    "This assignment involves simulating individual battle rounds in the classic board game Risk using Python. The objective is to model the combat mechanics where an attacking army engages a defending army using six-sided dice. By implementing the rules of the game, we aim to analyze the outcomes of multiple battle rounds and visualize the results to gain insights into the dynamics of troop losses during combat.\n",
    "\n",
    "### Objectives\n",
    "Simulate Battle Rounds: Create a program that simulates 1000 individual battle rounds between an attacker with up to three troops and a defender with up to two troops.\n",
    "Implement Game Mechanics: Accurately apply the rules of Risk for troop losses based on the comparison of dice rolls.\n",
    "Data Visualization: Use Matplotlib to plot the total losses for both the attacker and defender after all simulations, providing a clear visual representation of the results.\n",
    "Analyze Results: Interpret the plotted data to understand the patterns and trends in troop losses over numerous battle rounds."
   ]
  },
  {
   "cell_type": "code",
   "execution_count": 1,
   "metadata": {},
   "outputs": [],
   "source": [
    "import numpy as np\n",
    "import random \n",
    "import matplotlib.pyplot as plt"
   ]
  },
  {
   "cell_type": "code",
   "execution_count": 2,
   "metadata": {},
   "outputs": [],
   "source": [
    "# Define a function to simulate battles in risk\n",
    "def round_battle():\n",
    "    # Roll the dice for attacker and defender (3 dice vs 2 dice)\n",
    "    attacker_rolls = [random.randint(1, 6) for _ in range(3)]\n",
    "    defender_rolls = [random.randint(1, 6) for _ in range(2)]\n",
    "  # Sort the rolls in descending order\n",
    "    attacker_rolls.sort(reverse=True)\n",
    "    defender_rolls.sort(reverse=True)\n",
    "     # Initialize losses\n",
    "    attacker_losses = 0\n",
    "    defender_losses = 0\n",
    "    \n",
    "    # Compare the highest rolls\n",
    "    if attacker_rolls[0] <= defender_rolls[0]:\n",
    "        attacker_losses += 1\n",
    "    else:\n",
    "        defender_losses += 1\n",
    "    \n",
    "    # Compare the second highest rolls\n",
    "    if attacker_rolls[1] <= defender_rolls[1]:\n",
    "        attacker_losses += 1\n",
    "    else:\n",
    "        defender_losses += 1\n",
    "    \n",
    "    return attacker_losses, defender_losses"
   ]
  }
 ],
 "metadata": {
  "kernelspec": {
   "display_name": "base",
   "language": "python",
   "name": "python3"
  },
  "language_info": {
   "codemirror_mode": {
    "name": "ipython",
    "version": 3
   },
   "file_extension": ".py",
   "mimetype": "text/x-python",
   "name": "python",
   "nbconvert_exporter": "python",
   "pygments_lexer": "ipython3",
   "version": "3.11.5"
  }
 },
 "nbformat": 4,
 "nbformat_minor": 2
}
