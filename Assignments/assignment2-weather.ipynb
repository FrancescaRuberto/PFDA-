{
 "cells": [
  {
   "cell_type": "markdown",
   "metadata": {},
   "source": [
    "# Assignment 2 - Temperature Over Time Plot\n",
    "\n",
    "### Introduction:\n",
    "In this notebook, we will visualize the changes in temperature over time using data from the provided CSV file. Specifically, we'll focus on the \"dryBulbTemperature_Celsius\" column, which represents the temperature in Celsius, and plot it against the time data in the \"reportStartDateTime\" column.\n",
    "\n",
    "### Objective:\n",
    "- Goal: To create a clear and aesthetically pleasing plot of temperature over time.\n",
    "- Data: The temperature data comes from a CSV file, where each row represents a timestamped observation.\n",
    "- Approach: Using Python libraries such as pandas for data handling and matplotlib for plotting, we will:\n",
    "    - Read and parse the CSV file.\n",
    "    - Convert the time data into a format suitable for plotting.\n",
    "    - Generate a plot that shows the temperature variation over time, with appropriate labeling and formatting to ensure readability.\n",
    "    \n",
    "This visualization will help us understand how the temperature fluctuates over a given period.\n"
   ]
  },
  {
   "cell_type": "code",
   "execution_count": 1,
   "metadata": {},
   "outputs": [],
   "source": [
    "# Import necessary libraries\n",
    "import pandas as pd\n",
    "import matplotlib.pyplot as plt\n",
    "from datetime import datetime"
   ]
  },
  {
   "cell_type": "code",
   "execution_count": 2,
   "metadata": {},
   "outputs": [],
   "source": [
    "# Load the CSV file\n",
    "file_path = 'C:\\\\Users\\\\franc\\\\OneDrive\\\\Desktop\\\\PFDA\\\\Programming-for-data-analytics\\\\MyWork\\\\wheater.csv' #NB. slashes MUST be dublicated \n",
    "df = pd.read_csv(file_path)"
   ]
  }
 ],
 "metadata": {
  "kernelspec": {
   "display_name": "base",
   "language": "python",
   "name": "python3"
  },
  "language_info": {
   "codemirror_mode": {
    "name": "ipython",
    "version": 3
   },
   "file_extension": ".py",
   "mimetype": "text/x-python",
   "name": "python",
   "nbconvert_exporter": "python",
   "pygments_lexer": "ipython3",
   "version": "3.11.5"
  }
 },
 "nbformat": 4,
 "nbformat_minor": 2
}
