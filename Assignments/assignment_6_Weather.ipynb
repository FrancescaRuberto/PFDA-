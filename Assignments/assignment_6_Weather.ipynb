{
 "cells": [
  {
   "cell_type": "markdown",
   "metadata": {},
   "source": [
    "# Analyzing Knock Airport Weather Data with Python\n",
    "\n",
    "#### Due to issues related to VS Code I was not able to complete the assignment through it. Please, find the assignment in Google Colab at this link [GoogleColab - assignment_6_Weather.ipynb](https://colab.research.google.com/drive/13Gd0iIfYaVFa5rhZzV1nXNYQP1DlIpBp?usp=sharing)\n",
    "\n",
    "## Introduction:\n",
    "This task involves analyzing weather data recorded at Knock Airport using Python to uncover trends and essential statistics related to temperature and wind speed. Starting with a downloadable dataset, we will explore various meteorological parameters. For the first part, the focus will be on temperature, including plots of daily temperatures, daily mean temperatures, and monthly averages. In the second part, the analysis extends to wind speed, addressing challenges such as missing data and incorporating advanced calculations like rolling averages and daily maximum wind speeds. This task offers a comprehensive approach to visualizing and understanding weather patterns at Knock Airport."
   ]
  }
 ],
 "metadata": {
  "kernelspec": {
   "display_name": "base",
   "language": "python",
   "name": "python3"
  },
  "language_info": {
   "codemirror_mode": {
    "name": "ipython",
    "version": 3
   },
   "file_extension": ".py",
   "mimetype": "text/x-python",
   "name": "python",
   "nbconvert_exporter": "python",
   "pygments_lexer": "ipython3",
   "version": "3.11.5"
  }
 },
 "nbformat": 4,
 "nbformat_minor": 2
}
